{
  "nbformat": 4,
  "nbformat_minor": 0,
  "metadata": {
    "colab": {
      "provenance": [],
      "authorship_tag": "ABX9TyPgY8Xr2Wb9WDmAfS0k/gOQ",
      "include_colab_link": true
    },
    "kernelspec": {
      "name": "python3",
      "display_name": "Python 3"
    },
    "language_info": {
      "name": "python"
    }
  },
  "cells": [
    {
      "cell_type": "markdown",
      "metadata": {
        "id": "view-in-github",
        "colab_type": "text"
      },
      "source": [
        "<a href=\"https://colab.research.google.com/github/MiaKun/Latihan-Fork/blob/main/Tugas%201%20Kel.%201%20Prak.%20PBF%20RA.ipynb\" target=\"_parent\"><img src=\"https://colab.research.google.com/assets/colab-badge.svg\" alt=\"Open In Colab\"/></a>"
      ]
    },
    {
      "cell_type": "markdown",
      "source": [
        "# Tugas Kelompok 1 Prak. SSD RA\n"
      ],
      "metadata": {
        "id": "WNFK6VJQ5yJe"
      }
    },
    {
      "cell_type": "markdown",
      "source": [
        "1. Buatlah fungsi komposisi dengan nilai dan dengan pemrograman\n",
        "prosedural tiga fungsi dan pemrograman fungsional dengan lambda.\n",
        "2. Buatlah pemrograman berbasis objek pada soal no.1\n",
        "3. Berikan Analisis Komparasi soal 1 dan 2\n",
        "4. Buatlah satu penyelesaian Luas Segitiga dengan menggunakan Pemrograman berorientasi Objek dan\n",
        "Pemrograman berbasis Fungsi. uji dengan membandingkan mana yang tercepat komputasinya.\n",
        "\n",
        "Special Soal 5: Diberikan Algoritma Metode Bisection berikut:\n",
        "1. start\n",
        "2. Define function f(x)\n",
        "3. Choose initial guesses x0 and x1 such that f(x0)f(x1) < 0\n",
        "4. Choose pre-specified tolerable error e.\n",
        "5. Calculate new approximated root as x2 = (x0 + x1)/2\n",
        "6. Calculate f(x0)f(x2) a. if f(x0)f(x2) < 0 then x0 = x0 and x1 = x2 b. if f(x0)f(x2) > 0 then x0 = x2 and x1 =\n",
        "x1 c. if f(x0)f(x2) = 0 then goto (8)\n",
        "y\n",
        "′ = f(x, y)\n",
        "y\n",
        "′ = f(x, y)\n",
        "y\n",
        "′ = f(x, y)\n",
        "f(x) = 4\n",
        "x\n",
        ", g(x) = x\n",
        "x h(x) = 3 + x\n",
        "7. if |f(x2)| > e then goto (5) otherwise goto (8)\n",
        "8. Display x2 as root.\n",
        "9. Stop\n",
        "Buatlah prosedural programming dari persoalan di atas dan ubahlah dengan functional programming.\n",
        "lakukan dengan batas toleransi . dengan fungsi yang diberikan sebagai berikut: dan nilai a dan\n",
        "b adalah di antara 0 dan 1 (nilai antara tidak boleh 0 dan 1)\n",
        "\n",
        "\n",
        "Nama Anggota :\n",
        "- Dhea Amelia Putri - 122450004\n",
        "- Khoirul Mizan Abdullah - 122450010\n",
        "- Jeremia Susanto - 122450022\n",
        "- Ibrahim Al-Kahfi - 122450100\n",
        "- Nabila Zakiyah Zahra - 122450139"
      ],
      "metadata": {
        "id": "epNVXYgE6E_t"
      }
    },
    {
      "cell_type": "markdown",
      "source": [
        "**No. 1**"
      ],
      "metadata": {
        "id": "c4UEhB2y6kvA"
      }
    },
    {
      "cell_type": "code",
      "execution_count": 1,
      "metadata": {
        "colab": {
          "base_uri": "https://localhost:8080/"
        },
        "id": "HormiKKr5nKd",
        "outputId": "5c6fecad-6563-4cf5-941d-676c682b7331"
      },
      "outputs": [
        {
          "output_type": "execute_result",
          "data": {
            "text/plain": [
              "259"
            ]
          },
          "metadata": {},
          "execution_count": 1
        }
      ],
      "source": [
        "def f(x):\n",
        " return 4*x\n",
        "def g(x):\n",
        " return x*x\n",
        "def h(x):\n",
        " return 3+x\n",
        "# Composition\n",
        "h(g(f(4)))"
      ]
    }
  ]
}